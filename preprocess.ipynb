{
 "cells": [
  {
   "cell_type": "markdown",
   "id": "aec39d03",
   "metadata": {},
   "source": [
    "# import libraries"
   ]
  },
  {
   "cell_type": "code",
   "execution_count": 1,
   "id": "142684c7",
   "metadata": {},
   "outputs": [],
   "source": [
    "from pathlib import Path\n",
    "import os\n",
    "import pandas as pd\n",
    "from PIL import Image\n",
    "import os\n",
    "from glob import glob\n",
    "from shutil import rmtree"
   ]
  },
  {
   "cell_type": "markdown",
   "id": "71f9ae11",
   "metadata": {},
   "source": [
    "# load data"
   ]
  },
  {
   "cell_type": "code",
   "execution_count": 2,
   "id": "508b27de",
   "metadata": {},
   "outputs": [],
   "source": [
    "path = Path(\"test_data\")\n",
    "images_dir = Path(path/'images/images')\n",
    "df = pd.read_csv(path/'artists.csv')"
   ]
  },
  {
   "cell_type": "markdown",
   "id": "f3939e85",
   "metadata": {},
   "source": [
    "# remove spaces from names"
   ]
  },
  {
   "cell_type": "code",
   "execution_count": 3,
   "id": "2bf2c27e",
   "metadata": {},
   "outputs": [],
   "source": [
    "artists_df = df[['name', 'paintings']].groupby(['name'], as_index = False).sum()\n",
    "names = artists_df.sort_values('paintings', ascending = False)[:50]\n",
    "images_dir = Path(path/'images/images')\n",
    "artists = names['name'].str.replace(' ', '_').values"
   ]
  },
  {
   "cell_type": "markdown",
   "id": "e0dc6844",
   "metadata": {},
   "source": [
    "# delete Albrecht Dürer's images, because of problems with folder name and the letter ü"
   ]
  },
  {
   "cell_type": "code",
   "execution_count": 4,
   "id": "653861e8",
   "metadata": {},
   "outputs": [],
   "source": [
    "pattern = os.path.join(Path(images_dir), \"Albrecht_*\")\n",
    "for item in glob(pattern):\n",
    "    if not os.path.isdir(item):\n",
    "        continue\n",
    "    rmtree(item)"
   ]
  },
  {
   "cell_type": "markdown",
   "id": "e29f9e12",
   "metadata": {},
   "source": [
    "# resize images"
   ]
  },
  {
   "cell_type": "code",
   "execution_count": 5,
   "id": "467d97fa",
   "metadata": {},
   "outputs": [],
   "source": [
    "painting_list = []\n",
    "for artist in artists:\n",
    "    folder = Path(images_dir/artist)\n",
    "    for subdir, dirs, files in os.walk(images_dir):\n",
    "        for file in files:\n",
    "            img_path = os.path.join(subdir, file)\n",
    "            img = Image.open(img_path)\n",
    "            img = img.resize((224, 224))\n",
    "            img.save(img_path)"
   ]
  }
 ],
 "metadata": {
  "kernelspec": {
   "display_name": "py3.10",
   "language": "python",
   "name": "python3"
  },
  "language_info": {
   "codemirror_mode": {
    "name": "ipython",
    "version": 3
   },
   "file_extension": ".py",
   "mimetype": "text/x-python",
   "name": "python",
   "nbconvert_exporter": "python",
   "pygments_lexer": "ipython3",
   "version": "3.10.4"
  }
 },
 "nbformat": 4,
 "nbformat_minor": 5
}
