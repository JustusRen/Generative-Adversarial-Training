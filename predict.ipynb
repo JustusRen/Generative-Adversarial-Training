{
 "cells": [
  {
   "attachments": {},
   "cell_type": "markdown",
   "id": "8da20ec0",
   "metadata": {},
   "source": [
    "Author: Justus Renkhoff"
   ]
  },
  {
   "cell_type": "code",
   "execution_count": 1,
   "id": "d1742732",
   "metadata": {},
   "outputs": [],
   "source": [
    "import keras\n",
    "import cv2\n",
    "import numpy as np\n",
    "import tensorflow as tf"
   ]
  },
  {
   "attachments": {},
   "cell_type": "markdown",
   "id": "afabe847",
   "metadata": {},
   "source": [
    "# function to load a model and image and then predict the class"
   ]
  },
  {
   "cell_type": "code",
   "execution_count": 2,
   "id": "6360f475",
   "metadata": {},
   "outputs": [],
   "source": [
    "def make_prediction(model, image):\n",
    "    model = keras.models.load_model(model)\n",
    "\n",
    "    img = cv2.imread(image)\n",
    "    img = np.reshape(img, [1, 224, 224, 3])\n",
    "\n",
    "    predicted_value = model.predict(img)\n",
    "    return predicted_value"
   ]
  },
  {
   "cell_type": "code",
   "execution_count": 3,
   "id": "5b2368ec",
   "metadata": {},
   "outputs": [
    {
     "name": "stdout",
     "output_type": "stream",
     "text": [
      "1/1 [==============================] - 0s 300ms/step\n",
      "[[0.20310348 0.37533373 0.3923878  0.02917491]]\n",
      "1/1 [==============================] - 0s 245ms/step\n",
      "[[0.15527816 0.43241963 0.36614263 0.04615954]]\n",
      "1/1 [==============================] - 0s 241ms/step\n",
      "[[0.14889441 0.00258216 0.07094899 0.7775744 ]]\n"
     ]
    }
   ],
   "source": [
    "pred = make_prediction(\"model_smaller.h5\", \"goya_test.jpg\")\n",
    "print(pred)\n",
    "pred = make_prediction(\"model_smaller.h5\", \"renoir_test.jpg\")\n",
    "print(pred)\n",
    "pred = make_prediction(\"model_smaller.h5\", \"rembrandt_test.jpg\")\n",
    "print(pred)"
   ]
  }
 ],
 "metadata": {
  "kernelspec": {
   "display_name": "py3.10",
   "language": "python",
   "name": "py3.10"
  },
  "language_info": {
   "codemirror_mode": {
    "name": "ipython",
    "version": 3
   },
   "file_extension": ".py",
   "mimetype": "text/x-python",
   "name": "python",
   "nbconvert_exporter": "python",
   "pygments_lexer": "ipython3",
   "version": "3.10.4"
  }
 },
 "nbformat": 4,
 "nbformat_minor": 5
}
