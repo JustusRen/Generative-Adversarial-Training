{
 "cells": [
  {
   "cell_type": "code",
   "execution_count": 8,
   "id": "cec642fc",
   "metadata": {},
   "outputs": [],
   "source": [
    "from pathlib import Path\n",
    "import os\n",
    "import pandas as pd\n",
    "import numpy as np\n",
    "from sklearn.model_selection import train_test_split\n",
    "import keras\n",
    "import cv2\n",
    "import tensorflow as tf\n",
    "import keras\n",
    "from keras.layers import Conv2D, Dense, Flatten, MaxPool2D\n",
    "from keras.models import Sequential, load_model\n",
    "from keras.optimizers import Adam\n",
    "from keras.preprocessing import image\n",
    "from keras.preprocessing.image import ImageDataGenerator\n",
    "from keras.callbacks import ModelCheckpoint, EarlyStopping\n",
    "from sklearn.preprocessing import LabelEncoder\n",
    "from keras.layers import Lambda\n",
    "from PIL import Image\n",
    "import cv2\n",
    "from tensorflow.keras import layers\n",
    "from keras.utils import to_categorical\n"
   ]
  },
  {
   "cell_type": "code",
   "execution_count": 9,
   "id": "afd492a1",
   "metadata": {},
   "outputs": [],
   "source": [
    "class CustomGenerator(keras.utils.Sequence):\n",
    "\n",
    "    def __init__(self, image_filenames, labels, batch_size):\n",
    "        self.image_filenames = image_filenames\n",
    "        self.labels = labels\n",
    "        self.batch_size = batch_size\n",
    "\n",
    "    def __len__(self):\n",
    "        return (np.ceil(len(self.image_filenames) / float(self.batch_size))).astype(int)\n",
    "\n",
    "    def __getitem__(self, idx):\n",
    "        batch_x = self.image_filenames[idx * self.batch_size: (idx + 1) * self.batch_size]\n",
    "        batch_y = self.labels[idx * self.batch_size: (idx + 1) * self.batch_size]        \n",
    "        return np.array([\n",
    "            (cv2.imread(str(file_name)))\n",
    "            for file_name in batch_x]), np.array(batch_y)"
   ]
  },
  {
   "cell_type": "code",
   "execution_count": 10,
   "id": "c7b97c1a",
   "metadata": {},
   "outputs": [
    {
     "name": "stdout",
     "output_type": "stream",
     "text": [
      "                         name  paintings\n",
      "48           Vincent van Gogh        877\n",
      "10                Edgar Degas        702\n",
      "33              Pablo Picasso        439\n",
      "38      Pierre-Auguste Renoir        336\n",
      "0              Albrecht Dürer        328\n",
      "35               Paul Gauguin        311\n",
      "15             Francisco Goya        291\n",
      "42                  Rembrandt        262\n",
      "1               Alfred Sisley        259\n",
      "46                     Titian        255\n",
      "30               Marc Chagall        239\n",
      "43              Rene Magritte        194\n",
      "2           Amedeo Modigliani        193\n",
      "36                  Paul Klee        188\n",
      "21              Henri Matisse        186\n",
      "4                 Andy Warhol        181\n",
      "32             Mikhail Vrubel        171\n",
      "45          Sandro Botticelli        164\n",
      "29          Leonardo da Vinci        143\n",
      "37          Peter Paul Rubens        141\n",
      "44              Salvador Dali        139\n",
      "24           Hieronymus Bosch        137\n",
      "40             Pieter Bruegel        134\n",
      "9             Diego Velazquez        128\n",
      "28           Kazimir Malevich        126\n",
      "16                Frida Kahlo        120\n",
      "18          Giotto di Bondone        119\n",
      "19               Gustav Klimt        117\n",
      "41                    Raphael        109\n",
      "27                  Joan Miro        102\n",
      "3               Andrei Rublev         99\n",
      "5            Camille Pissarro         91\n",
      "11              Edouard Manet         90\n",
      "47         Vasiliy Kandinskiy         88\n",
      "13                   El Greco         87\n",
      "39              Piet Mondrian         84\n",
      "26               Jan van Eyck         81\n",
      "23  Henri de Toulouse-Lautrec         81\n",
      "7                Claude Monet         73\n",
      "8                Diego Rivera         70\n",
      "22             Henri Rousseau         70\n",
      "12               Edvard Munch         67\n",
      "49             William Turner         66\n",
      "20            Gustave Courbet         59\n",
      "6                  Caravaggio         55\n",
      "31               Michelangelo         49\n",
      "34               Paul Cezanne         47\n",
      "17             Georges Seurat         43\n",
      "14           Eugene Delacroix         31\n",
      "25            Jackson Pollock         24\n"
     ]
    }
   ],
   "source": [
    "path = Path(\"test_data_smaller\")\n",
    "df = pd.read_csv(path/'artists.csv')\n",
    "\n",
    "#check distribution of paintings\n",
    "artists_df = df[['name', 'paintings']].groupby(['name'], as_index = False).sum()\n",
    "names = artists_df.sort_values('paintings', ascending = False)[:50]\n",
    "print(names)\n",
    "#remove spaces from names\n",
    "images_dir = Path(path/'images/images')\n",
    "artists = names['name'].str.replace(' ', '_').values"
   ]
  },
  {
   "cell_type": "code",
   "execution_count": 11,
   "id": "fdba9fcf",
   "metadata": {},
   "outputs": [
    {
     "name": "stdout",
     "output_type": "stream",
     "text": [
      "0  represents  Francisco_Goya\n",
      "1  represents  Paul_Gauguin\n",
      "2  represents  Pierre-Auguste_Renoir\n",
      "3  represents  Rembrandt\n",
      "[[1. 0. 0. 0.]\n",
      " [1. 0. 0. 0.]\n",
      " [1. 0. 0. 0.]\n",
      " ...\n",
      " [0. 0. 0. 1.]\n",
      " [0. 0. 0. 1.]\n",
      " [0. 0. 0. 1.]]\n"
     ]
    }
   ],
   "source": [
    "painting_list = []\n",
    "for path, subdirs, files in os.walk(images_dir):\n",
    "    for name in files:\n",
    "        img = os.path.join(path, name)\n",
    "        painting_list.extend([img])\n",
    "\n",
    "#only works on windows\n",
    "artist_list = []\n",
    "for painting in painting_list:\n",
    "    artist = painting.split('\\\\')[3]\n",
    "    artist_list.extend([artist])\n",
    "\n",
    "y = np.array(artist_list)  \n",
    "\n",
    "encoder = LabelEncoder()\n",
    "y = encoder.fit_transform(pd.Series(y))\n",
    "classes = list(encoder.classes_)\n",
    "for i in range(len(classes)):\n",
    "    print(i, ' represents ', classes[i])\n",
    "\n",
    "y = keras.utils.to_categorical(y, len(classes))\n",
    "print(y)\n",
    "\n",
    "X = np.array(painting_list) "
   ]
  },
  {
   "cell_type": "code",
   "execution_count": 12,
   "id": "58de262d",
   "metadata": {},
   "outputs": [
    {
     "name": "stdout",
     "output_type": "stream",
     "text": [
      "[0. 1.]\n",
      "[0. 1.]\n",
      "[0. 1.]\n",
      "960\n",
      "960\n"
     ]
    }
   ],
   "source": [
    "X_train, X_val, y_train, y_val = train_test_split(X, y, test_size=0.2, random_state=1)\n",
    "X_val, X_test, y_val, y_test = train_test_split(X_val, y_val, test_size=0.5, random_state=1)\n",
    "\n",
    "print(np.unique(y_train))\n",
    "print(np.unique(y_val))\n",
    "print(np.unique(y_test))\n",
    "print(len(X_train))\n",
    "print(len(y_train))"
   ]
  },
  {
   "cell_type": "code",
   "execution_count": 13,
   "id": "de43223d",
   "metadata": {},
   "outputs": [
    {
     "name": "stdout",
     "output_type": "stream",
     "text": [
      "960\n"
     ]
    }
   ],
   "source": [
    "batch_size = 32\n",
    "training_batch_generator = CustomGenerator(X_train, y_train, batch_size)\n",
    "validation_batch_generator = CustomGenerator(X_val, y_val, batch_size)\n",
    "training_size = len(X_train)\n",
    "validation_size = len(X_val)\n",
    "test_size = len(X_test)\n",
    "print(training_size)"
   ]
  },
  {
   "cell_type": "code",
   "execution_count": 14,
   "id": "552fca12",
   "metadata": {},
   "outputs": [],
   "source": [
    "def make_model(input_shape, num_classes):\n",
    "    inputs = keras.Input(shape=input_shape)\n",
    "\n",
    "    # Entry block\n",
    "    x = layers.Rescaling(1.0 / 255)(inputs)\n",
    "    x = layers.Conv2D(128, 3, strides=2, padding=\"same\")(x)\n",
    "    x = layers.BatchNormalization()(x)\n",
    "    x = layers.Activation(\"relu\")(x)\n",
    "\n",
    "    previous_block_activation = x  # Set aside residual\n",
    "\n",
    "    for size in [256, 512, 728]:\n",
    "        x = layers.Activation(\"relu\")(x)\n",
    "        x = layers.SeparableConv2D(size, 3, padding=\"same\")(x)\n",
    "        x = layers.BatchNormalization()(x)\n",
    "\n",
    "        x = layers.Activation(\"relu\")(x)\n",
    "        x = layers.SeparableConv2D(size, 3, padding=\"same\")(x)\n",
    "        x = layers.BatchNormalization()(x)\n",
    "\n",
    "        x = layers.MaxPooling2D(3, strides=2, padding=\"same\")(x)\n",
    "\n",
    "        # Project residual\n",
    "        residual = layers.Conv2D(size, 1, strides=2, padding=\"same\")(\n",
    "            previous_block_activation\n",
    "        )\n",
    "        x = layers.add([x, residual])  # Add back residual\n",
    "        previous_block_activation = x  # Set aside next residual\n",
    "\n",
    "    x = layers.SeparableConv2D(1024, 3, padding=\"same\")(x)\n",
    "    x = layers.BatchNormalization()(x)\n",
    "    x = layers.Activation(\"relu\")(x)\n",
    "\n",
    "    x = layers.GlobalAveragePooling2D()(x)\n",
    "    \n",
    "    activation = \"softmax\"\n",
    "\n",
    "    x = layers.Dropout(0.5)(x)\n",
    "    outputs = layers.Dense(num_classes, activation=activation)(x)\n",
    "    return keras.Model(inputs, outputs)"
   ]
  },
  {
   "cell_type": "code",
   "execution_count": 15,
   "id": "048658c5",
   "metadata": {},
   "outputs": [],
   "source": [
    "input_shape = (cv2.imread(str(painting_list[0]))).shape\n",
    "model = make_model(input_shape, len(classes))"
   ]
  },
  {
   "cell_type": "code",
   "execution_count": 16,
   "id": "8dcb1c93",
   "metadata": {},
   "outputs": [
    {
     "name": "stdout",
     "output_type": "stream",
     "text": [
      "Epoch 1/6\n"
     ]
    },
    {
     "name": "stderr",
     "output_type": "stream",
     "text": [
      "C:\\Users\\justu\\AppData\\Local\\Temp\\ipykernel_23112\\3309904067.py:2: UserWarning: `Model.fit_generator` is deprecated and will be removed in a future version. Please use `Model.fit`, which supports generators.\n",
      "  model.fit_generator(generator=training_batch_generator,\n"
     ]
    },
    {
     "name": "stdout",
     "output_type": "stream",
     "text": [
      "30/30 [==============================] - 187s 6s/step - loss: 1.0949 - accuracy: 0.5740 - val_loss: 1.3772 - val_accuracy: 0.2396\n",
      "Epoch 2/6\n",
      "30/30 [==============================] - 268s 9s/step - loss: 0.8795 - accuracy: 0.6531 - val_loss: 1.3781 - val_accuracy: 0.3750\n",
      "Epoch 3/6\n",
      "30/30 [==============================] - 262s 9s/step - loss: 0.8233 - accuracy: 0.6927 - val_loss: 1.3854 - val_accuracy: 0.3021\n",
      "Epoch 4/6\n",
      "30/30 [==============================] - 266s 9s/step - loss: 0.7733 - accuracy: 0.7042 - val_loss: 1.4489 - val_accuracy: 0.2604\n",
      "Epoch 5/6\n",
      "30/30 [==============================] - 278s 9s/step - loss: 0.7466 - accuracy: 0.7052 - val_loss: 1.4626 - val_accuracy: 0.2500\n",
      "Epoch 6/6\n",
      "30/30 [==============================] - 283s 9s/step - loss: 0.6882 - accuracy: 0.7385 - val_loss: 1.5749 - val_accuracy: 0.1979\n"
     ]
    },
    {
     "data": {
      "text/plain": [
       "<keras.callbacks.History at 0x1b2a034cac0>"
      ]
     },
     "execution_count": 16,
     "metadata": {},
     "output_type": "execute_result"
    }
   ],
   "source": [
    "model.compile(loss='categorical_crossentropy', optimizer='adam', metrics=[\"accuracy\"])\n",
    "model.fit_generator(generator=training_batch_generator,\n",
    "                    steps_per_epoch=int(training_size // batch_size),\n",
    "                    epochs=6,\n",
    "                    verbose=1,\n",
    "                    validation_data=validation_batch_generator,\n",
    "                    validation_steps=int(validation_size // batch_size)\n",
    "                   )"
   ]
  },
  {
   "cell_type": "code",
   "execution_count": 17,
   "id": "01897aee",
   "metadata": {},
   "outputs": [],
   "source": [
    "model.save(Path('test.h5'))"
   ]
  }
 ],
 "metadata": {
  "kernelspec": {
   "display_name": "py3.10",
   "language": "python",
   "name": "py3.10"
  },
  "language_info": {
   "codemirror_mode": {
    "name": "ipython",
    "version": 3
   },
   "file_extension": ".py",
   "mimetype": "text/x-python",
   "name": "python",
   "nbconvert_exporter": "python",
   "pygments_lexer": "ipython3",
   "version": "3.10.4"
  }
 },
 "nbformat": 4,
 "nbformat_minor": 5
}
