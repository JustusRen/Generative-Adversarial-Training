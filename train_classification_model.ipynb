{
 "cells": [
  {
   "attachments": {},
   "cell_type": "markdown",
   "id": "c5801c1f",
   "metadata": {},
   "source": [
    "Author: Justus Renkhoff"
   ]
  },
  {
   "attachments": {},
   "cell_type": "markdown",
   "id": "d0330aba",
   "metadata": {},
   "source": [
    "# Import required libraries and modules"
   ]
  },
  {
   "cell_type": "code",
   "execution_count": 33,
   "id": "cec642fc",
   "metadata": {},
   "outputs": [],
   "source": [
    "from pathlib import Path\n",
    "import os\n",
    "import pandas as pd\n",
    "import numpy as np\n",
    "from sklearn.model_selection import train_test_split\n",
    "import keras\n",
    "import cv2\n",
    "import tensorflow as tf\n",
    "import keras\n",
    "from keras.layers import Conv2D, Dense, Flatten, MaxPool2D\n",
    "from keras.models import Sequential, load_model\n",
    "from keras.optimizers import Adam\n",
    "from keras.preprocessing import image\n",
    "from keras.preprocessing.image import ImageDataGenerator\n",
    "from keras.callbacks import ModelCheckpoint, EarlyStopping\n",
    "from sklearn.preprocessing import LabelEncoder\n",
    "from keras.layers import Lambda\n",
    "from PIL import Image\n",
    "import cv2\n",
    "from tensorflow.keras import layers\n",
    "from keras.utils import to_categorical\n",
    "import matplotlib.pyplot as plt\n"
   ]
  },
  {
   "attachments": {},
   "cell_type": "markdown",
   "id": "fad34a4b",
   "metadata": {},
   "source": [
    "# Create a custom generator\n",
    "\n",
    "I build a custom generator so that not all images are loaded into the memory at once"
   ]
  },
  {
   "cell_type": "code",
   "execution_count": 2,
   "id": "afd492a1",
   "metadata": {},
   "outputs": [],
   "source": [
    "class CustomGenerator(keras.utils.Sequence):\n",
    "    def __init__(self, image_filenames, labels, batch_size):\n",
    "        self.image_filenames = image_filenames\n",
    "        self.labels = labels\n",
    "        self.batch_size = batch_size\n",
    "\n",
    "    def __len__(self):\n",
    "        return (np.ceil(len(self.image_filenames) / float(self.batch_size))).astype(int)\n",
    "\n",
    "    def __getitem__(self, idx):\n",
    "        batch_x = self.image_filenames[idx * self.batch_size: (idx + 1) * self.batch_size]\n",
    "        batch_y = self.labels[idx * self.batch_size: (idx + 1) * self.batch_size]        \n",
    "        return np.array([\n",
    "            (cv2.imread(str(file_name)))\n",
    "            for file_name in batch_x]), np.array(batch_y)"
   ]
  },
  {
   "attachments": {},
   "cell_type": "markdown",
   "id": "74d3da5c",
   "metadata": {},
   "source": [
    "# Function to plot learning curve"
   ]
  },
  {
   "cell_type": "code",
   "execution_count": 34,
   "id": "44e54512",
   "metadata": {},
   "outputs": [],
   "source": [
    "def create_plot(model, model_name):\n",
    "    loss_train = model.history.history['accuracy']\n",
    "    loss_val = model.history.history['val_accuracy']\n",
    "    epochs = range(1, 7)\n",
    "    plt.plot(epochs, loss_train, 'g', label='Training accuracy')\n",
    "    plt.plot(epochs, loss_val, 'b', label='Validation accuracy')\n",
    "    plt.title('Training and Validation Accuracy')\n",
    "    plt.xlabel('Epochs')\n",
    "    plt.ylabel('Accuracy')\n",
    "    plt.legend()\n",
    "    plt.savefig(model_name + '.png')\n"
   ]
  },
  {
   "cell_type": "markdown",
   "id": "caf7890b",
   "metadata": {},
   "source": [
    "# Load the data"
   ]
  },
  {
   "cell_type": "code",
   "execution_count": 3,
   "id": "c7b97c1a",
   "metadata": {},
   "outputs": [],
   "source": [
    "path = Path(\"test_data_smaller\")\n",
    "df = pd.read_csv(path/'artists.csv')"
   ]
  },
  {
   "cell_type": "markdown",
   "id": "9baf774a",
   "metadata": {},
   "source": [
    "# Check the distribution of the data"
   ]
  },
  {
   "cell_type": "code",
   "execution_count": 4,
   "id": "b661df78",
   "metadata": {},
   "outputs": [
    {
     "name": "stdout",
     "output_type": "stream",
     "text": [
      "                         name  paintings\n",
      "48           Vincent van Gogh        877\n",
      "10                Edgar Degas        702\n",
      "33              Pablo Picasso        439\n",
      "38      Pierre-Auguste Renoir        336\n",
      "0              Albrecht Dürer        328\n",
      "35               Paul Gauguin        311\n",
      "15             Francisco Goya        291\n",
      "42                  Rembrandt        262\n",
      "1               Alfred Sisley        259\n",
      "46                     Titian        255\n",
      "30               Marc Chagall        239\n",
      "43              Rene Magritte        194\n",
      "2           Amedeo Modigliani        193\n",
      "36                  Paul Klee        188\n",
      "21              Henri Matisse        186\n",
      "4                 Andy Warhol        181\n",
      "32             Mikhail Vrubel        171\n",
      "45          Sandro Botticelli        164\n",
      "29          Leonardo da Vinci        143\n",
      "37          Peter Paul Rubens        141\n",
      "44              Salvador Dali        139\n",
      "24           Hieronymus Bosch        137\n",
      "40             Pieter Bruegel        134\n",
      "9             Diego Velazquez        128\n",
      "28           Kazimir Malevich        126\n",
      "16                Frida Kahlo        120\n",
      "18          Giotto di Bondone        119\n",
      "19               Gustav Klimt        117\n",
      "41                    Raphael        109\n",
      "27                  Joan Miro        102\n",
      "3               Andrei Rublev         99\n",
      "5            Camille Pissarro         91\n",
      "11              Edouard Manet         90\n",
      "47         Vasiliy Kandinskiy         88\n",
      "13                   El Greco         87\n",
      "39              Piet Mondrian         84\n",
      "26               Jan van Eyck         81\n",
      "23  Henri de Toulouse-Lautrec         81\n",
      "7                Claude Monet         73\n",
      "8                Diego Rivera         70\n",
      "22             Henri Rousseau         70\n",
      "12               Edvard Munch         67\n",
      "49             William Turner         66\n",
      "20            Gustave Courbet         59\n",
      "6                  Caravaggio         55\n",
      "31               Michelangelo         49\n",
      "34               Paul Cezanne         47\n",
      "17             Georges Seurat         43\n",
      "14           Eugene Delacroix         31\n",
      "25            Jackson Pollock         24\n"
     ]
    }
   ],
   "source": [
    "artists_df = df[['name', 'paintings']].groupby(['name'], as_index = False).sum()\n",
    "names = artists_df.sort_values('paintings', ascending = False)[:50]\n",
    "print(names)"
   ]
  },
  {
   "cell_type": "markdown",
   "id": "ce816063",
   "metadata": {},
   "source": [
    "# Create a list with all paintings and artists"
   ]
  },
  {
   "cell_type": "code",
   "execution_count": 5,
   "id": "fdba9fcf",
   "metadata": {},
   "outputs": [],
   "source": [
    "images_dir = Path(path/'images/images')\n",
    "\n",
    "painting_list = []\n",
    "for path, subdirs, files in os.walk(images_dir):\n",
    "    for name in files:\n",
    "        img = os.path.join(path, name)\n",
    "        painting_list.extend([img])\n",
    "\n",
    "#only works on windows\n",
    "artist_list = []\n",
    "for painting in painting_list:\n",
    "    artist = painting.split('\\\\')[3]\n",
    "    artist_list.extend([artist])"
   ]
  },
  {
   "cell_type": "markdown",
   "id": "77f8f6a7",
   "metadata": {},
   "source": [
    "# Create X and y"
   ]
  },
  {
   "cell_type": "code",
   "execution_count": 6,
   "id": "fa779043",
   "metadata": {},
   "outputs": [
    {
     "name": "stdout",
     "output_type": "stream",
     "text": [
      "0  represents  Francisco_Goya\n",
      "1  represents  Paul_Gauguin\n",
      "2  represents  Pierre-Auguste_Renoir\n",
      "3  represents  Rembrandt\n",
      "[[1. 0. 0. 0.]\n",
      " [1. 0. 0. 0.]\n",
      " [1. 0. 0. 0.]\n",
      " ...\n",
      " [0. 0. 0. 1.]\n",
      " [0. 0. 0. 1.]\n",
      " [0. 0. 0. 1.]]\n"
     ]
    }
   ],
   "source": [
    "y = np.array(artist_list)  \n",
    "\n",
    "encoder = LabelEncoder()\n",
    "y = encoder.fit_transform(pd.Series(y))\n",
    "classes = list(encoder.classes_)\n",
    "for i in range(len(classes)):\n",
    "    print(i, ' represents ', classes[i])\n",
    "\n",
    "y = keras.utils.to_categorical(y, len(classes))\n",
    "print(y)\n",
    "\n",
    "X = np.array(painting_list) "
   ]
  },
  {
   "cell_type": "markdown",
   "id": "1f68b642",
   "metadata": {},
   "source": [
    "# Split data into train, validation and test data"
   ]
  },
  {
   "cell_type": "code",
   "execution_count": 7,
   "id": "58de262d",
   "metadata": {},
   "outputs": [],
   "source": [
    "X_train, X_val, y_train, y_val = train_test_split(X, y, test_size=0.2, random_state=1)\n",
    "X_val, X_test, y_val, y_test = train_test_split(X_val, y_val, test_size=0.5, random_state=1)"
   ]
  },
  {
   "cell_type": "markdown",
   "id": "ebf62842",
   "metadata": {},
   "source": [
    "# Prepare generators for training"
   ]
  },
  {
   "cell_type": "code",
   "execution_count": 8,
   "id": "de43223d",
   "metadata": {},
   "outputs": [
    {
     "name": "stdout",
     "output_type": "stream",
     "text": [
      "(224, 224, 3)\n"
     ]
    }
   ],
   "source": [
    "batch_size = 16\n",
    "training_batch_generator = CustomGenerator(X_train, y_train, batch_size)\n",
    "validation_batch_generator = CustomGenerator(X_val, y_val, batch_size)\n",
    "training_size = len(X_train)\n",
    "validation_size = len(X_val)\n",
    "test_size = len(X_test)\n",
    "input_shape = (cv2.imread(str(painting_list[0]))).shape\n",
    "print(input_shape)"
   ]
  },
  {
   "attachments": {},
   "cell_type": "markdown",
   "id": "f427ae7e",
   "metadata": {},
   "source": [
    "# A model based on VGG-16's architecture\n",
    "https://github.com/ashushekar/VGG16"
   ]
  },
  {
   "cell_type": "code",
   "execution_count": 9,
   "id": "7791e506",
   "metadata": {},
   "outputs": [],
   "source": [
    "def make_vgg16_model(input_shape, num_classes):\n",
    "    # Generate the model\n",
    "    model = Sequential()\n",
    "\n",
    "    # Layer 1: Convolutional\n",
    "    model.add(Conv2D(input_shape=input_shape, filters=64, kernel_size=(3, 3),\n",
    "                     padding='same', activation='relu'))\n",
    "\n",
    "    # Layer 2: Convolutional\n",
    "    model.add(Conv2D(filters=64, kernel_size=(3,3), padding='same', activation='relu'))\n",
    "\n",
    "    # Layer 3: MaxPooling\n",
    "    model.add(MaxPool2D(pool_size=(2, 2), strides=(2, 2)))\n",
    "\n",
    "    # Layer 4: Convolutional\n",
    "    model.add(Conv2D(filters=128, kernel_size=(3,3), padding='same', activation='relu'))\n",
    "    # Layer 5: Convolutional\n",
    "    model.add(Conv2D(filters=128, kernel_size=(3,3), padding='same', activation='relu'))\n",
    "    # Layer 6: MaxPooling\n",
    "    model.add(MaxPool2D(pool_size=(2, 2), strides=(2, 2)))\n",
    "\n",
    "    # Layer 7: Convolutional\n",
    "    model.add(Conv2D(filters=256, kernel_size=(3,3), padding='same', activation='relu'))\n",
    "    # Layer 8: Convolutional\n",
    "    model.add(Conv2D(filters=256, kernel_size=(3,3), padding='same', activation='relu'))\n",
    "    # Layer 9: Convolutional\n",
    "    model.add(Conv2D(filters=256, kernel_size=(3,3), padding='same', activation='relu'))\n",
    "    # Layer 10: MaxPooling\n",
    "    model.add(MaxPool2D(pool_size=(2, 2), strides=(2, 2)))\n",
    "\n",
    "    # Layer 11: Convolutional\n",
    "    model.add(Conv2D(filters=512, kernel_size=(3,3), padding='same', activation='relu'))\n",
    "    # Layer 12: Convolutional\n",
    "    model.add(Conv2D(filters=512, kernel_size=(3,3), padding='same', activation='relu'))\n",
    "    # Layer 13: Convolutional\n",
    "    model.add(Conv2D(filters=512, kernel_size=(3,3), padding='same', activation='relu'))\n",
    "    # Layer 14: MaxPooling\n",
    "    model.add(MaxPool2D(pool_size=(2, 2), strides=(2, 2)))\n",
    "\n",
    "    # Layer 15: Convolutional\n",
    "    model.add(Conv2D(filters=512, kernel_size=(3,3), padding='same', activation='relu'))\n",
    "    # Layer 16: Convolutional\n",
    "    model.add(Conv2D(filters=512, kernel_size=(3,3), padding='same', activation='relu'))\n",
    "    # Layer 17: Convolutional\n",
    "    model.add(Conv2D(filters=512, kernel_size=(3,3), padding='same', activation='relu'))\n",
    "    # Layer 18: MaxPooling\n",
    "    model.add(MaxPool2D(pool_size=(2, 2), strides=(2, 2)))\n",
    "\n",
    "    # Layer 19: Flatten\n",
    "    model.add(Flatten())\n",
    "    # Layer 20: Fully Connected Layer\n",
    "    model.add(Dense(units=4096, activation='relu'))\n",
    "    # Layer 21: Fully Connected Layer\n",
    "    model.add(Dense(units=4096, activation='relu'))\n",
    "    # Layer 22: Softmax Layer\n",
    "    model.add(Dense(units=num_classes, activation='softmax'))\n",
    "    print(model.summary())\n",
    "    return model"
   ]
  },
  {
   "attachments": {},
   "cell_type": "markdown",
   "id": "a9e07c03",
   "metadata": {},
   "source": [
    "# A model based on an image classification tutorial by keras\n",
    "https://keras.io/examples/vision/image_classification_from_scratch/"
   ]
  },
  {
   "cell_type": "code",
   "execution_count": 10,
   "id": "552fca12",
   "metadata": {},
   "outputs": [],
   "source": [
    "def make_keras_model(input_shape, num_classes):\n",
    "    inputs = keras.Input(shape=input_shape)\n",
    "\n",
    "    # Entry block\n",
    "    x = layers.Rescaling(1.0 / 255)(inputs)\n",
    "    x = layers.Conv2D(128, 3, strides=2, padding=\"same\")(x)\n",
    "    x = layers.BatchNormalization()(x)\n",
    "    x = layers.Activation(\"relu\")(x)\n",
    "\n",
    "    previous_block_activation = x  # Set aside residual\n",
    "\n",
    "    for size in [256, 512, 728]:\n",
    "        x = layers.Activation(\"relu\")(x)\n",
    "        x = layers.SeparableConv2D(size, 3, padding=\"same\")(x)\n",
    "        x = layers.BatchNormalization()(x)\n",
    "\n",
    "        x = layers.Activation(\"relu\")(x)\n",
    "        x = layers.SeparableConv2D(size, 3, padding=\"same\")(x)\n",
    "        x = layers.BatchNormalization()(x)\n",
    "\n",
    "        x = layers.MaxPooling2D(3, strides=2, padding=\"same\")(x)\n",
    "\n",
    "        # Project residual\n",
    "        residual = layers.Conv2D(size, 1, strides=2, padding=\"same\")(\n",
    "            previous_block_activation\n",
    "        )\n",
    "        x = layers.add([x, residual])  # Add back residual\n",
    "        previous_block_activation = x  # Set aside next residual\n",
    "\n",
    "    x = layers.SeparableConv2D(1024, 3, padding=\"same\")(x)\n",
    "    x = layers.BatchNormalization()(x)\n",
    "    x = layers.Activation(\"relu\")(x)\n",
    "\n",
    "    x = layers.GlobalAveragePooling2D()(x)\n",
    "    \n",
    "    activation = \"softmax\"\n",
    "\n",
    "    x = layers.Dropout(0.5)(x)\n",
    "    outputs = layers.Dense(num_classes, activation=activation)(x)\n",
    "    return keras.Model(inputs, outputs)"
   ]
  },
  {
   "cell_type": "markdown",
   "id": "2fe3e295",
   "metadata": {},
   "source": [
    "# Train keras-like model"
   ]
  },
  {
   "cell_type": "code",
   "execution_count": 11,
   "id": "048658c5",
   "metadata": {},
   "outputs": [
    {
     "name": "stdout",
     "output_type": "stream",
     "text": [
      "Model: \"model\"\n",
      "__________________________________________________________________________________________________\n",
      " Layer (type)                   Output Shape         Param #     Connected to                     \n",
      "==================================================================================================\n",
      " input_1 (InputLayer)           [(None, 224, 224, 3  0           []                               \n",
      "                                )]                                                                \n",
      "                                                                                                  \n",
      " rescaling (Rescaling)          (None, 224, 224, 3)  0           ['input_1[0][0]']                \n",
      "                                                                                                  \n",
      " conv2d (Conv2D)                (None, 112, 112, 12  3584        ['rescaling[0][0]']              \n",
      "                                8)                                                                \n",
      "                                                                                                  \n",
      " batch_normalization (BatchNorm  (None, 112, 112, 12  512        ['conv2d[0][0]']                 \n",
      " alization)                     8)                                                                \n",
      "                                                                                                  \n",
      " activation (Activation)        (None, 112, 112, 12  0           ['batch_normalization[0][0]']    \n",
      "                                8)                                                                \n",
      "                                                                                                  \n",
      " activation_1 (Activation)      (None, 112, 112, 12  0           ['activation[0][0]']             \n",
      "                                8)                                                                \n",
      "                                                                                                  \n",
      " separable_conv2d (SeparableCon  (None, 112, 112, 25  34176      ['activation_1[0][0]']           \n",
      " v2D)                           6)                                                                \n",
      "                                                                                                  \n",
      " batch_normalization_1 (BatchNo  (None, 112, 112, 25  1024       ['separable_conv2d[0][0]']       \n",
      " rmalization)                   6)                                                                \n",
      "                                                                                                  \n",
      " activation_2 (Activation)      (None, 112, 112, 25  0           ['batch_normalization_1[0][0]']  \n",
      "                                6)                                                                \n",
      "                                                                                                  \n",
      " separable_conv2d_1 (SeparableC  (None, 112, 112, 25  68096      ['activation_2[0][0]']           \n",
      " onv2D)                         6)                                                                \n",
      "                                                                                                  \n",
      " batch_normalization_2 (BatchNo  (None, 112, 112, 25  1024       ['separable_conv2d_1[0][0]']     \n",
      " rmalization)                   6)                                                                \n",
      "                                                                                                  \n",
      " max_pooling2d (MaxPooling2D)   (None, 56, 56, 256)  0           ['batch_normalization_2[0][0]']  \n",
      "                                                                                                  \n",
      " conv2d_1 (Conv2D)              (None, 56, 56, 256)  33024       ['activation[0][0]']             \n",
      "                                                                                                  \n",
      " add (Add)                      (None, 56, 56, 256)  0           ['max_pooling2d[0][0]',          \n",
      "                                                                  'conv2d_1[0][0]']               \n",
      "                                                                                                  \n",
      " activation_3 (Activation)      (None, 56, 56, 256)  0           ['add[0][0]']                    \n",
      "                                                                                                  \n",
      " separable_conv2d_2 (SeparableC  (None, 56, 56, 512)  133888     ['activation_3[0][0]']           \n",
      " onv2D)                                                                                           \n",
      "                                                                                                  \n",
      " batch_normalization_3 (BatchNo  (None, 56, 56, 512)  2048       ['separable_conv2d_2[0][0]']     \n",
      " rmalization)                                                                                     \n",
      "                                                                                                  \n",
      " activation_4 (Activation)      (None, 56, 56, 512)  0           ['batch_normalization_3[0][0]']  \n",
      "                                                                                                  \n",
      " separable_conv2d_3 (SeparableC  (None, 56, 56, 512)  267264     ['activation_4[0][0]']           \n",
      " onv2D)                                                                                           \n",
      "                                                                                                  \n",
      " batch_normalization_4 (BatchNo  (None, 56, 56, 512)  2048       ['separable_conv2d_3[0][0]']     \n",
      " rmalization)                                                                                     \n",
      "                                                                                                  \n",
      " max_pooling2d_1 (MaxPooling2D)  (None, 28, 28, 512)  0          ['batch_normalization_4[0][0]']  \n",
      "                                                                                                  \n",
      " conv2d_2 (Conv2D)              (None, 28, 28, 512)  131584      ['add[0][0]']                    \n",
      "                                                                                                  \n",
      " add_1 (Add)                    (None, 28, 28, 512)  0           ['max_pooling2d_1[0][0]',        \n",
      "                                                                  'conv2d_2[0][0]']               \n",
      "                                                                                                  \n",
      " activation_5 (Activation)      (None, 28, 28, 512)  0           ['add_1[0][0]']                  \n",
      "                                                                                                  \n",
      " separable_conv2d_4 (SeparableC  (None, 28, 28, 728)  378072     ['activation_5[0][0]']           \n",
      " onv2D)                                                                                           \n",
      "                                                                                                  \n",
      " batch_normalization_5 (BatchNo  (None, 28, 28, 728)  2912       ['separable_conv2d_4[0][0]']     \n",
      " rmalization)                                                                                     \n",
      "                                                                                                  \n",
      " activation_6 (Activation)      (None, 28, 28, 728)  0           ['batch_normalization_5[0][0]']  \n",
      "                                                                                                  \n",
      " separable_conv2d_5 (SeparableC  (None, 28, 28, 728)  537264     ['activation_6[0][0]']           \n",
      " onv2D)                                                                                           \n",
      "                                                                                                  \n",
      " batch_normalization_6 (BatchNo  (None, 28, 28, 728)  2912       ['separable_conv2d_5[0][0]']     \n",
      " rmalization)                                                                                     \n",
      "                                                                                                  \n",
      " max_pooling2d_2 (MaxPooling2D)  (None, 14, 14, 728)  0          ['batch_normalization_6[0][0]']  \n",
      "                                                                                                  \n",
      " conv2d_3 (Conv2D)              (None, 14, 14, 728)  373464      ['add_1[0][0]']                  \n",
      "                                                                                                  \n",
      " add_2 (Add)                    (None, 14, 14, 728)  0           ['max_pooling2d_2[0][0]',        \n",
      "                                                                  'conv2d_3[0][0]']               \n",
      "                                                                                                  \n",
      " separable_conv2d_6 (SeparableC  (None, 14, 14, 1024  753048     ['add_2[0][0]']                  \n",
      " onv2D)                         )                                                                 \n",
      "                                                                                                  \n",
      " batch_normalization_7 (BatchNo  (None, 14, 14, 1024  4096       ['separable_conv2d_6[0][0]']     \n",
      " rmalization)                   )                                                                 \n",
      "                                                                                                  \n",
      " activation_7 (Activation)      (None, 14, 14, 1024  0           ['batch_normalization_7[0][0]']  \n",
      "                                )                                                                 \n",
      "                                                                                                  \n",
      " global_average_pooling2d (Glob  (None, 1024)        0           ['activation_7[0][0]']           \n",
      " alAveragePooling2D)                                                                              \n",
      "                                                                                                  \n",
      " dropout (Dropout)              (None, 1024)         0           ['global_average_pooling2d[0][0]'\n",
      "                                                                 ]                                \n",
      "                                                                                                  \n",
      " dense (Dense)                  (None, 4)            4100        ['dropout[0][0]']                \n",
      "                                                                                                  \n",
      "==================================================================================================\n",
      "Total params: 2,734,140\n",
      "Trainable params: 2,725,852\n",
      "Non-trainable params: 8,288\n",
      "__________________________________________________________________________________________________\n",
      "None\n"
     ]
    }
   ],
   "source": [
    "model_keras = make_keras_model(input_shape, len(classes))\n",
    "print(model_keras.summary())"
   ]
  },
  {
   "cell_type": "code",
   "execution_count": 12,
   "id": "8dcb1c93",
   "metadata": {},
   "outputs": [
    {
     "name": "stdout",
     "output_type": "stream",
     "text": [
      "Epoch 1/6\n"
     ]
    },
    {
     "name": "stderr",
     "output_type": "stream",
     "text": [
      "C:\\Users\\justu\\AppData\\Local\\Temp\\ipykernel_16208\\1483329134.py:2: UserWarning: `Model.fit_generator` is deprecated and will be removed in a future version. Please use `Model.fit`, which supports generators.\n",
      "  model_keras.fit_generator(generator=training_batch_generator,\n"
     ]
    },
    {
     "name": "stdout",
     "output_type": "stream",
     "text": [
      "60/60 [==============================] - 161s 3s/step - loss: 1.0680 - accuracy: 0.5885 - val_loss: 1.3778 - val_accuracy: 0.2321\n",
      "Epoch 2/6\n",
      "60/60 [==============================] - 153s 3s/step - loss: 0.9381 - accuracy: 0.6365 - val_loss: 1.3956 - val_accuracy: 0.3393\n",
      "Epoch 3/6\n",
      "60/60 [==============================] - 154s 3s/step - loss: 0.8311 - accuracy: 0.6750 - val_loss: 1.5520 - val_accuracy: 0.1875\n",
      "Epoch 4/6\n",
      "60/60 [==============================] - 154s 3s/step - loss: 0.7720 - accuracy: 0.6948 - val_loss: 1.7119 - val_accuracy: 0.1875\n",
      "Epoch 5/6\n",
      "60/60 [==============================] - 159s 3s/step - loss: 0.7227 - accuracy: 0.7104 - val_loss: 1.8820 - val_accuracy: 0.2589\n",
      "Epoch 6/6\n",
      "60/60 [==============================] - 160s 3s/step - loss: 0.6288 - accuracy: 0.7615 - val_loss: 2.5438 - val_accuracy: 0.1875\n"
     ]
    },
    {
     "data": {
      "text/plain": [
       "<keras.callbacks.History at 0x2b166893f10>"
      ]
     },
     "execution_count": 12,
     "metadata": {},
     "output_type": "execute_result"
    }
   ],
   "source": [
    "model_keras.compile(loss='categorical_crossentropy', optimizer='adam', metrics=[\"accuracy\"])\n",
    "model_keras.fit_generator(generator=training_batch_generator,\n",
    "                    steps_per_epoch=int(training_size // batch_size),\n",
    "                    epochs=6,\n",
    "                    verbose=1,\n",
    "                    validation_data=validation_batch_generator,\n",
    "                    validation_steps=int(validation_size // batch_size)\n",
    "                   )"
   ]
  },
  {
   "cell_type": "code",
   "execution_count": 13,
   "id": "01897aee",
   "metadata": {},
   "outputs": [],
   "source": [
    "model_keras.save(Path('model_keras_test_smaller.h5'))"
   ]
  },
  {
   "cell_type": "code",
   "execution_count": 30,
   "id": "ed49e862",
   "metadata": {},
   "outputs": [
    {
     "data": {
      "image/png": "[encoded data removed]",
      "text/plain": [
       "<Figure size 432x288 with 1 Axes>"
      ]
     },
     "metadata": {
      "needs_background": "light"
     },
     "output_type": "display_data"
    }
   ],
   "source": [
    "create_plot(model_keras, 'model_keras_test_smaller')"
   ]
  },
  {
   "cell_type": "markdown",
   "id": "32f38238",
   "metadata": {},
   "source": [
    "# Train VGG16-like model"
   ]
  },
  {
   "cell_type": "code",
   "execution_count": 14,
   "id": "e8e088cd",
   "metadata": {},
   "outputs": [
    {
     "name": "stdout",
     "output_type": "stream",
     "text": [
      "Model: \"sequential\"\n",
      "_________________________________________________________________\n",
      " Layer (type)                Output Shape              Param #   \n",
      "=================================================================\n",
      " conv2d_4 (Conv2D)           (None, 224, 224, 64)      1792      \n",
      "                                                                 \n",
      " conv2d_5 (Conv2D)           (None, 224, 224, 64)      36928     \n",
      "                                                                 \n",
      " max_pooling2d_3 (MaxPooling  (None, 112, 112, 64)     0         \n",
      " 2D)                                                             \n",
      "                                                                 \n",
      " conv2d_6 (Conv2D)           (None, 112, 112, 128)     73856     \n",
      "                                                                 \n",
      " conv2d_7 (Conv2D)           (None, 112, 112, 128)     147584    \n",
      "                                                                 \n",
      " max_pooling2d_4 (MaxPooling  (None, 56, 56, 128)      0         \n",
      " 2D)                                                             \n",
      "                                                                 \n",
      " conv2d_8 (Conv2D)           (None, 56, 56, 256)       295168    \n",
      "                                                                 \n",
      " conv2d_9 (Conv2D)           (None, 56, 56, 256)       590080    \n",
      "                                                                 \n",
      " conv2d_10 (Conv2D)          (None, 56, 56, 256)       590080    \n",
      "                                                                 \n",
      " max_pooling2d_5 (MaxPooling  (None, 28, 28, 256)      0         \n",
      " 2D)                                                             \n",
      "                                                                 \n",
      " conv2d_11 (Conv2D)          (None, 28, 28, 512)       1180160   \n",
      "                                                                 \n",
      " conv2d_12 (Conv2D)          (None, 28, 28, 512)       2359808   \n",
      "                                                                 \n",
      " conv2d_13 (Conv2D)          (None, 28, 28, 512)       2359808   \n",
      "                                                                 \n",
      " max_pooling2d_6 (MaxPooling  (None, 14, 14, 512)      0         \n",
      " 2D)                                                             \n",
      "                                                                 \n",
      " conv2d_14 (Conv2D)          (None, 14, 14, 512)       2359808   \n",
      "                                                                 \n",
      " conv2d_15 (Conv2D)          (None, 14, 14, 512)       2359808   \n",
      "                                                                 \n",
      " conv2d_16 (Conv2D)          (None, 14, 14, 512)       2359808   \n",
      "                                                                 \n",
      " max_pooling2d_7 (MaxPooling  (None, 7, 7, 512)        0         \n",
      " 2D)                                                             \n",
      "                                                                 \n",
      " flatten (Flatten)           (None, 25088)             0         \n",
      "                                                                 \n",
      " dense_1 (Dense)             (None, 4096)              102764544 \n",
      "                                                                 \n",
      " dense_2 (Dense)             (None, 4096)              16781312  \n",
      "                                                                 \n",
      " dense_3 (Dense)             (None, 4)                 16388     \n",
      "                                                                 \n",
      "=================================================================\n",
      "Total params: 134,276,932\n",
      "Trainable params: 134,276,932\n",
      "Non-trainable params: 0\n",
      "_________________________________________________________________\n",
      "None\n"
     ]
    }
   ],
   "source": [
    "model_vgg16 = make_vgg16_model(input_shape, len(classes))"
   ]
  },
  {
   "cell_type": "code",
   "execution_count": 15,
   "id": "4c638879",
   "metadata": {},
   "outputs": [
    {
     "name": "stdout",
     "output_type": "stream",
     "text": [
      "Epoch 1/6\n"
     ]
    },
    {
     "name": "stderr",
     "output_type": "stream",
     "text": [
      "C:\\Users\\justu\\AppData\\Local\\Temp\\ipykernel_16208\\737468964.py:2: UserWarning: `Model.fit_generator` is deprecated and will be removed in a future version. Please use `Model.fit`, which supports generators.\n",
      "  model_vgg16.fit_generator(generator=training_batch_generator,\n"
     ]
    },
    {
     "name": "stdout",
     "output_type": "stream",
     "text": [
      "60/60 [==============================] - 314s 5s/step - loss: 125.1766 - accuracy: 0.2635 - val_loss: 1.3824 - val_accuracy: 0.2857\n",
      "Epoch 2/6\n",
      "60/60 [==============================] - 309s 5s/step - loss: 1.3999 - accuracy: 0.2792 - val_loss: 1.3883 - val_accuracy: 0.2857\n",
      "Epoch 3/6\n",
      "60/60 [==============================] - 309s 5s/step - loss: 1.3821 - accuracy: 0.2708 - val_loss: 1.3847 - val_accuracy: 0.2857\n",
      "Epoch 4/6\n",
      "60/60 [==============================] - 313s 5s/step - loss: 1.4032 - accuracy: 0.2906 - val_loss: 1.6411 - val_accuracy: 0.2857\n",
      "Epoch 5/6\n",
      "60/60 [==============================] - 305s 5s/step - loss: 1.4022 - accuracy: 0.2781 - val_loss: 1.3607 - val_accuracy: 0.3393\n",
      "Epoch 6/6\n",
      "60/60 [==============================] - 302s 5s/step - loss: 1.3456 - accuracy: 0.3240 - val_loss: 1.3867 - val_accuracy: 0.2321\n"
     ]
    },
    {
     "data": {
      "text/plain": [
       "<keras.callbacks.History at 0x2b1000e5330>"
      ]
     },
     "execution_count": 15,
     "metadata": {},
     "output_type": "execute_result"
    }
   ],
   "source": [
    "model_vgg16.compile(loss='categorical_crossentropy', optimizer='adam', metrics=[\"accuracy\"])\n",
    "model_vgg16.fit_generator(generator=training_batch_generator,\n",
    "                    steps_per_epoch=int(training_size // batch_size),\n",
    "                    epochs=6,\n",
    "                    verbose=1,\n",
    "                    validation_data=validation_batch_generator,\n",
    "                    validation_steps=int(validation_size // batch_size)\n",
    "                   )"
   ]
  },
  {
   "cell_type": "code",
   "execution_count": 16,
   "id": "6523ebe4",
   "metadata": {},
   "outputs": [],
   "source": [
    "model_vgg16.save(Path('model_vgg16_test_smaller.h5'))"
   ]
  },
  {
   "cell_type": "code",
   "execution_count": 31,
   "id": "d456c823",
   "metadata": {},
   "outputs": [
    {
     "data": {
      "image/png": "[encoded data removed]",
      "text/plain": [
       "<Figure size 432x288 with 1 Axes>"
      ]
     },
     "metadata": {
      "needs_background": "light"
     },
     "output_type": "display_data"
    }
   ],
   "source": [
    "create_plot(model_vgg16, 'model_vgg16_test_smaller')"
   ]
  }
 ],
 "metadata": {
  "kernelspec": {
   "display_name": "py3.10",
   "language": "python",
   "name": "python3"
  },
  "language_info": {
   "codemirror_mode": {
    "name": "ipython",
    "version": 3
   },
   "file_extension": ".py",
   "mimetype": "text/x-python",
   "name": "python",
   "nbconvert_exporter": "python",
   "pygments_lexer": "ipython3",
   "version": "3.10.4"
  }
 },
 "nbformat": 4,
 "nbformat_minor": 5
}
