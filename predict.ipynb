{
 "cells": [
  {
   "attachments": {},
   "cell_type": "markdown",
   "id": "8da20ec0",
   "metadata": {},
   "source": [
    "Project: Prevent Generative AI from Learning with Adversarial Attacks <br>\n",
    "Description: Tests to load a model and predict the classes of two some test images <br>\n",
    "Author: Justus Renkhoff"
   ]
  },
  {
   "cell_type": "code",
   "execution_count": 1,
   "id": "d1742732",
   "metadata": {},
   "outputs": [],
   "source": [
    "import keras\n",
    "import cv2\n",
    "import numpy as np\n",
    "import tensorflow as tf"
   ]
  },
  {
   "attachments": {},
   "cell_type": "markdown",
   "id": "afabe847",
   "metadata": {},
   "source": [
    "# function to load a model and image and then predict the class"
   ]
  },
  {
   "cell_type": "code",
   "execution_count": 2,
   "id": "6360f475",
   "metadata": {},
   "outputs": [],
   "source": [
    "def make_prediction(model, image):\n",
    "    model = keras.models.load_model(model)\n",
    "\n",
    "    img = cv2.imread(image)\n",
    "    img = np.reshape(img, [1, 224, 224, 3])\n",
    "\n",
    "    predicted_value = model.predict(img)\n",
    "    return predicted_value"
   ]
  },
  {
   "cell_type": "code",
   "execution_count": 5,
   "id": "5b2368ec",
   "metadata": {},
   "outputs": [
    {
     "name": "stdout",
     "output_type": "stream",
     "text": [
      "1/1 [==============================] - 0s 206ms/step\n",
      "[[0.05933684 0.13680917 0.10490877 0.13126157 0.13327278 0.05544088\n",
      "  0.32281986 0.0561502 ]]\n"
     ]
    }
   ],
   "source": [
    "pred = make_prediction(\"model_vgg16_test.h5\", \"test_data/images/adversarial_images/Rembrandt_1.jpg\")\n",
    "print(pred)"
   ]
  }
 ],
 "metadata": {
  "kernelspec": {
   "display_name": "py3.10",
   "language": "python",
   "name": "python3"
  },
  "language_info": {
   "codemirror_mode": {
    "name": "ipython",
    "version": 3
   },
   "file_extension": ".py",
   "mimetype": "text/x-python",
   "name": "python",
   "nbconvert_exporter": "python",
   "pygments_lexer": "ipython3",
   "version": "3.10.4"
  }
 },
 "nbformat": 4,
 "nbformat_minor": 5
}
