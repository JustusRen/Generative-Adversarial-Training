{
 "cells": [
  {
   "cell_type": "code",
   "execution_count": null,
   "id": "2c3baa6d",
   "metadata": {},
   "outputs": [],
   "source": [
    "from tensorflow.keras.losses import MSE\n",
    "import tensorflow as tf\n",
    "import keras\n",
    "import cv2\n",
    "import numpy as np\n",
    "from matplotlib import pyplot as plt\n",
    "import os\n",
    "from pathlib import Path"
   ]
  },
  {
   "attachments": {},
   "cell_type": "markdown",
   "id": "132f9cee",
   "metadata": {},
   "source": [
    "https://www.tensorflow.org/tutorials/generative/adversarial_fgsm\n",
    "\n",
    "https://pyimagesearch.com/2021/03/01/adversarial-attacks-with-fgsm-fast-gradient-sign-method/"
   ]
  },
  {
   "cell_type": "code",
   "execution_count": null,
   "id": "9ab7d346",
   "metadata": {},
   "outputs": [],
   "source": [
    "def generate_image_adversary(model, image, label, eps=1 / 255.0):\n",
    "    # cast the image\n",
    "    image = tf.cast(image, tf.float32)\n",
    "    # record our gradients\n",
    "    with tf.GradientTape() as tape:\n",
    "        # explicitly indicate that our image should be tacked for\n",
    "        # gradient updates\n",
    "        tape.watch(image)\n",
    "        # use our model to make predictions on the input image and\n",
    "        # then compute the loss\n",
    "        pred = model(image)\n",
    "        loss = MSE(label, pred)\n",
    "    # calculate the gradients of loss with respect to the image, then\n",
    "    # compute the sign of the gradient\n",
    "    gradient = tape.gradient(loss, image)\n",
    "    signedGrad = tf.sign(gradient)\n",
    "    # construct the image adversary\n",
    "    adversary = (image + (signedGrad * eps)).numpy()\n",
    "    # return the image adversary to the calling function\n",
    "    return adversary"
   ]
  },
  {
   "cell_type": "code",
   "execution_count": null,
   "id": "9740d163",
   "metadata": {},
   "outputs": [],
   "source": [
    "def transform_model_image(model, image):\n",
    "    model = keras.models.load_model(model)\n",
    "\n",
    "    img = cv2.imread(image)\n",
    "    img = np.reshape(img, [1, 224, 224, 3])\n",
    "\n",
    "    return model, img"
   ]
  },
  {
   "cell_type": "code",
   "execution_count": null,
   "id": "4e6eb0e7",
   "metadata": {},
   "outputs": [],
   "source": [
    "def make_prediction(model, image):\n",
    "    predicted_values = model.predict(image)\n",
    "    predicted_class = np.array(predicted_values).argmax()\n",
    "    return predicted_class"
   ]
  },
  {
   "cell_type": "code",
   "execution_count": null,
   "id": "09eb4ab9",
   "metadata": {},
   "outputs": [],
   "source": [
    "path = Path(\"test_data_smaller\")\n",
    "adversarial_images_dir = Path(path/'images/adversarial_images/')\n",
    "\n",
    "if not os.path.exists(adversarial_images_dir):\n",
    "    os.makedirs(adversarial_images_dir)"
   ]
  },
  {
   "cell_type": "code",
   "execution_count": null,
   "id": "aa4fc787",
   "metadata": {},
   "outputs": [],
   "source": [
    "images_dir = Path(path/'images/images')\n",
    "\n",
    "painting_list = []\n",
    "for path, subdirs, files in os.walk(images_dir):\n",
    "    for name in files:\n",
    "        img = os.path.join(path, name)\n",
    "        painting_list.extend([img])\n",
    "print(painting_list)"
   ]
  },
  {
   "cell_type": "code",
   "execution_count": null,
   "id": "9d675668",
   "metadata": {},
   "outputs": [],
   "source": [
    "for painting in painting_list:\n",
    "    model, image = transform_model_image(\"model_keras_test_smaller.h5\", painting)\n",
    "    label = make_prediction(model, image)\n",
    "    adversary = generate_image_adversary(model, image, label)\n",
    "    adversary_label = make_prediction(model, adversary)\n",
    "    i = 1\n",
    "    while adversary_label == label and i <= 10:\n",
    "        i = i + 2\n",
    "        adversary = generate_image_adversary(model, image, label, i)\n",
    "        adversary_label = make_prediction(model, adversary)\n",
    "    filename = os.path.basename(painting)\n",
    "    \n",
    "    predicted_values_image = model.predict(image)\n",
    "    predicted_class_image = np.array(predicted_values_image).argmax()\n",
    "\n",
    "    predicted_values_adversary = model.predict(adversary)\n",
    "    predicted_class_adversary = np.array(predicted_values_adversary).argmax()\n",
    "    if predicted_class_image != predicted_class_adversary:\n",
    "        cv2.imwrite(str(adversarial_images_dir)+'/'+filename, adversary[0])\n"
   ]
  }
 ],
 "metadata": {
  "kernelspec": {
   "display_name": "py3.10",
   "language": "python",
   "name": "python3"
  },
  "language_info": {
   "codemirror_mode": {
    "name": "ipython",
    "version": 3
   },
   "file_extension": ".py",
   "mimetype": "text/x-python",
   "name": "python",
   "nbconvert_exporter": "python",
   "pygments_lexer": "ipython3",
   "version": "3.10.4"
  }
 },
 "nbformat": 4,
 "nbformat_minor": 5
}
